{
 "cells": [
  {
   "cell_type": "markdown",
   "metadata": {},
   "source": [
    "# Question 4\n",
    "- Under package nps_chat, see what files are in it.\n",
    "- Find 'user121' and see how many posts he posted in all.\n",
    "- Find out how many unique user in each age range group. (20s, 30s,...)(Hint: files' name)\n"
   ]
  },
  {
   "cell_type": "code",
   "execution_count": 3,
   "metadata": {
    "collapsed": true
   },
   "outputs": [],
   "source": [
    "import nltk"
   ]
  },
  {
   "cell_type": "code",
   "execution_count": 4,
   "metadata": {
    "collapsed": false
   },
   "outputs": [
    {
     "name": "stdout",
     "output_type": "stream",
     "text": [
      "['10-19-20s_706posts.xml', '10-19-30s_705posts.xml', '10-19-40s_686posts.xml', '10-19-adults_706posts.xml', '10-24-40s_706posts.xml', '10-26-teens_706posts.xml', '11-06-adults_706posts.xml', '11-08-20s_705posts.xml', '11-08-40s_706posts.xml', '11-08-adults_705posts.xml', '11-08-teens_706posts.xml', '11-09-20s_706posts.xml', '11-09-40s_706posts.xml', '11-09-adults_706posts.xml', '11-09-teens_706posts.xml']\n"
     ]
    }
   ],
   "source": [
    "from nltk.corpus import nps_chat\n",
    "all_files = nps_chat.fileids()\n",
    "print(all_files)"
   ]
  },
  {
   "cell_type": "code",
   "execution_count": 51,
   "metadata": {
    "collapsed": false
   },
   "outputs": [],
   "source": [
    "content = nltk.corpus.nps_chat.raw('11-09-teens_706posts.xml')\n",
    "#print(content)"
   ]
  },
  {
   "cell_type": "code",
   "execution_count": 6,
   "metadata": {
    "collapsed": false
   },
   "outputs": [
    {
     "data": {
      "text/plain": [
       "nltk.corpus.reader.util.ConcatenatedCorpusView"
      ]
     },
     "execution_count": 6,
     "metadata": {},
     "output_type": "execute_result"
    }
   ],
   "source": [
    "posts = nltk.corpus.nps_chat.xml_posts()\n",
    "type(posts)"
   ]
  },
  {
   "cell_type": "code",
   "execution_count": 10,
   "metadata": {
    "collapsed": false
   },
   "outputs": [
    {
     "name": "stdout",
     "output_type": "stream",
     "text": [
      "Total number of posts by User121:  132\n"
     ]
    }
   ],
   "source": [
    "count = 0\n",
    "for post in posts:                            #loop through all the posts in nps_chat\n",
    "    user = post.get(\"user\")                   #get the user of each post\n",
    "    if user.endswith(\"User121\"):\n",
    "        count += 1\n",
    "\n",
    "print('Total number of posts by User121: ', count)\n",
    "    "
   ]
  },
  {
   "cell_type": "code",
   "execution_count": 49,
   "metadata": {
    "collapsed": false
   },
   "outputs": [],
   "source": [
    "age_groups =[]\n",
    "for file in all_files:                          #loop all file names\n",
    "    age_group = file[6:-13]                     #get age groups from all file names\n",
    "    age_groups.append(age_group)                #put them in a list\n",
    "age_groups = set(age_groups)                    #remove all redundant age groups\n",
    "#print(age_groups)"
   ]
  },
  {
   "cell_type": "code",
   "execution_count": 50,
   "metadata": {
    "collapsed": false
   },
   "outputs": [],
   "source": [
    "sorted_ageGroup_list = sorted(age_groups)\n",
    "#print(sorted_ageGroup_list)"
   ]
  },
  {
   "cell_type": "code",
   "execution_count": 38,
   "metadata": {
    "collapsed": false
   },
   "outputs": [],
   "source": [
    "user_age_group_20s = []\n",
    "user_age_group_30s = []\n",
    "user_age_group_40s = []\n",
    "user_age_group_adults = []\n",
    "user_age_group_teens = []\n",
    "#type(user_age_group_40s)"
   ]
  },
  {
   "cell_type": "code",
   "execution_count": 46,
   "metadata": {
    "collapsed": false
   },
   "outputs": [],
   "source": [
    "for post in posts:                            #loop through all the posts in nps_chat\n",
    "    user = post.get(\"user\")                   #get the user of each post\n",
    "    #print(user)\n",
    "    user_agegroup = user[6:9]\n",
    "    if user_agegroup == \"20s\":\n",
    "        user_age_group_20s.append(user)\n",
    "    if user_agegroup == \"30s\":\n",
    "        user_age_group_30s.append(user)\n",
    "    if user_agegroup == \"40s\":\n",
    "        user_age_group_40s.append(user)\n",
    "    if user_agegroup == \"adu\":\n",
    "        user_age_group_adults.append(user)\n",
    "    if user_agegroup == \"tee\":\n",
    "        user_age_group_teens.append(user)\n",
    "        \n",
    "user_20s = len(set(user_age_group_20s))\n",
    "user_30s = len(set(user_age_group_30s))\n",
    "user_40s = len(set(user_age_group_40s))\n",
    "user_adults = len(set(user_age_group_adults))\n",
    "user_teens = len(set(user_age_group_teens)) "
   ]
  },
  {
   "cell_type": "code",
   "execution_count": 48,
   "metadata": {
    "collapsed": false
   },
   "outputs": [
    {
     "name": "stdout",
     "output_type": "stream",
     "text": [
      "Number of users in age group '20s':  305\n",
      "Number of users in age group '30s':  44\n",
      "Number of users in age group '40s':  228\n",
      "Number of users in age group 'adults':  357\n",
      "Number of users in age group 'teens':  443\n"
     ]
    }
   ],
   "source": [
    "print(\"Number of users in age group '20s': \", user_20s)\n",
    "print(\"Number of users in age group '30s': \", user_30s)\n",
    "print(\"Number of users in age group '40s': \", user_40s)\n",
    "print(\"Number of users in age group 'adults': \", user_adults)\n",
    "print(\"Number of users in age group 'teens': \", user_teens)"
   ]
  }
 ],
 "metadata": {
  "anaconda-cloud": {},
  "kernelspec": {
   "display_name": "Python [conda root]",
   "language": "python",
   "name": "conda-root-py"
  },
  "language_info": {
   "codemirror_mode": {
    "name": "ipython",
    "version": 3
   },
   "file_extension": ".py",
   "mimetype": "text/x-python",
   "name": "python",
   "nbconvert_exporter": "python",
   "pygments_lexer": "ipython3",
   "version": "3.5.2"
  }
 },
 "nbformat": 4,
 "nbformat_minor": 1
}
