{
 "cells": [
  {
   "cell_type": "markdown",
   "metadata": {},
   "source": [
    "# Question 7\n",
    "- Use Name corpus, calculate the probability of a name being of a male or female base on the last character(s) of name.\n",
    "- Sample steps:\n",
    "- For char ‘a’:\n",
    "\ttotal_names = sum(names ending with ‘a’)\n",
    "\tmale_names = sum(male names ending with ‘a’)\n",
    "\tfemale_names = sum(female names ending with ‘a’)\n",
    "\tProbability of name being male = 100 * male_names / total_names\n",
    "2. Do this for all characters. \n",
    "- Output must come with proper title (e.g. [a] male: 25%, female: 60%)\n"
   ]
  },
  {
   "cell_type": "code",
   "execution_count": 1,
   "metadata": {
    "collapsed": true
   },
   "outputs": [],
   "source": [
    "import nltk"
   ]
  },
  {
   "cell_type": "code",
   "execution_count": 2,
   "metadata": {
    "collapsed": true
   },
   "outputs": [],
   "source": [
    "from nltk.corpus import names"
   ]
  },
  {
   "cell_type": "code",
   "execution_count": 3,
   "metadata": {
    "collapsed": false
   },
   "outputs": [
    {
     "data": {
      "text/plain": [
       "['female.txt', 'male.txt']"
      ]
     },
     "execution_count": 3,
     "metadata": {},
     "output_type": "execute_result"
    }
   ],
   "source": [
    "names.fileids()"
   ]
  },
  {
   "cell_type": "code",
   "execution_count": 21,
   "metadata": {
    "collapsed": false
   },
   "outputs": [],
   "source": [
    "female_names = nltk.corpus.names.words('female.txt')# get all the names in female.txt file\n",
    "male_names = nltk.corpus.names.words('male.txt')    # get all the words in male.txt file\n",
    "#print(female_names)\n",
    "#print(male_names)\n",
    "type(female_names)\n",
    "all_names = []                                      # create a list to add all names in one list\n",
    "all_names.extend(female_names)       \n",
    "all_names.extend(male_names)"
   ]
  },
  {
   "cell_type": "code",
   "execution_count": 9,
   "metadata": {
    "collapsed": true
   },
   "outputs": [],
   "source": [
    "char = ['a', 'b','c','d','e','f','g','h','i','j','k','l','m','n','o','p','q','r','s','t','u','v','w','x','y','z']"
   ]
  },
  {
   "cell_type": "code",
   "execution_count": 25,
   "metadata": {
    "collapsed": false
   },
   "outputs": [
    {
     "name": "stdout",
     "output_type": "stream",
     "text": [
      "Based on [ a ]\n",
      "Probaility of male name: 1.609322974472808 %\n",
      "Probability of female name: 98.3906770255272 %\n",
      "Based on [ b ]\n",
      "Probaility of male name: 70.0 %\n",
      "Probability of female name: 30.0 %\n",
      "Based on [ c ]\n",
      "Probaility of male name: 100.0 %\n",
      "Probability of female name: 0.0 %\n",
      "Based on [ d ]\n",
      "Probaility of male name: 85.39325842696628 %\n",
      "Probability of female name: 14.606741573033707 %\n",
      "Based on [ e ]\n",
      "Probaility of male name: 24.63157894736842 %\n",
      "Probability of female name: 75.36842105263158 %\n",
      "Based on [ f ]\n",
      "Probaility of male name: 92.5925925925926 %\n",
      "Probability of female name: 7.4074074074074066 %\n",
      "Based on [ g ]\n",
      "Probaility of male name: 76.19047619047619 %\n",
      "Probability of female name: 23.809523809523807 %\n",
      "Based on [ h ]\n",
      "Probaility of male name: 46.96969696969697 %\n",
      "Probability of female name: 53.03030303030303 %\n",
      "Based on [ i ]\n",
      "Probaility of male name: 13.623978201634879 %\n",
      "Probability of female name: 86.37602179836512 %\n",
      "Based on [ j ]\n",
      "Probaility of male name: 75.0 %\n",
      "Probability of female name: 25.0 %\n",
      "Based on [ k ]\n",
      "Probaility of male name: 95.83333333333334 %\n",
      "Probability of female name: 4.166666666666666 %\n",
      "Based on [ l ]\n",
      "Probaility of male name: 51.09289617486339 %\n",
      "Probability of female name: 48.90710382513661 %\n",
      "Based on [ m ]\n",
      "Probaility of male name: 84.33734939759037 %\n",
      "Probability of female name: 15.66265060240964 %\n",
      "Based on [ n ]\n",
      "Probaility of male name: 55.32407407407407 %\n",
      "Probability of female name: 44.675925925925924 %\n",
      "Based on [ o ]\n",
      "Probaility of male name: 83.33333333333334 %\n",
      "Probability of female name: 16.666666666666664 %\n",
      "Based on [ p ]\n",
      "Probaility of male name: 90.0 %\n",
      "Probability of female name: 10.0 %\n",
      "Based on [ q ]\n",
      "Probaility of male name: 0 %\n",
      "Probability of female name: 0 %\n",
      "Based on [ r ]\n",
      "Probaility of male name: 80.16877637130801 %\n",
      "Probability of female name: 19.831223628691983 %\n",
      "Based on [ s ]\n",
      "Probaility of male name: 71.20743034055728 %\n",
      "Probability of female name: 28.792569659442723 %\n",
      "Based on [ t ]\n",
      "Probaility of male name: 70.6896551724138 %\n",
      "Probability of female name: 29.310344827586203 %\n",
      "Based on [ u ]\n",
      "Probaility of male name: 66.66666666666666 %\n",
      "Probability of female name: 33.33333333333333 %\n",
      "Based on [ v ]\n",
      "Probaility of male name: 88.88888888888889 %\n",
      "Probability of female name: 11.11111111111111 %\n",
      "Based on [ w ]\n",
      "Probaility of male name: 77.27272727272727 %\n",
      "Probability of female name: 22.727272727272727 %\n",
      "Based on [ x ]\n",
      "Probaility of male name: 50.0 %\n",
      "Probability of female name: 50.0 %\n",
      "Based on [ y ]\n",
      "Probaility of male name: 41.86633039092055 %\n",
      "Probability of female name: 58.13366960907944 %\n",
      "Based on [ z ]\n",
      "Probaility of male name: 73.33333333333333 %\n",
      "Probability of female name: 26.666666666666668 %\n"
     ]
    }
   ],
   "source": [
    "for c in char:\n",
    "    total_names  = 0\n",
    "    males = 0\n",
    "    females = 0\n",
    "    prob_male_names = 0\n",
    "    prob_female_names = 0\n",
    "    for name in all_names:\n",
    "        if name.endswith(c):\n",
    "            total_names += 1\n",
    "    for name in male_names:\n",
    "        if name.endswith(c):\n",
    "            males += 1\n",
    "    for name in female_names:\n",
    "        if name.endswith(c):\n",
    "            females += 1\n",
    "    if total_names > 0:\n",
    "        prob_male_names = 100 * (males/total_names)\n",
    "        prob_female_names = 100 * (females/total_names)\n",
    "    print ('Based on [',c,']')\n",
    "    print('Probaility of male name:', prob_male_names , '%')\n",
    "    print('Probability of female name:', prob_female_names , '%')        "
   ]
  },
  {
   "cell_type": "code",
   "execution_count": null,
   "metadata": {
    "collapsed": true
   },
   "outputs": [],
   "source": []
  }
 ],
 "metadata": {
  "kernelspec": {
   "display_name": "Python [conda root]",
   "language": "python",
   "name": "conda-root-py"
  },
  "language_info": {
   "codemirror_mode": {
    "name": "ipython",
    "version": 3
   },
   "file_extension": ".py",
   "mimetype": "text/x-python",
   "name": "python",
   "nbconvert_exporter": "python",
   "pygments_lexer": "ipython3",
   "version": "3.5.2"
  }
 },
 "nbformat": 4,
 "nbformat_minor": 1
}
