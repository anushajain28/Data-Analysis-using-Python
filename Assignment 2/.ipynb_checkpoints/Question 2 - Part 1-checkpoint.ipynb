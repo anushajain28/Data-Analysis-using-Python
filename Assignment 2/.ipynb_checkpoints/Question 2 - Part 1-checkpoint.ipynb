{
 "cells": [
  {
   "cell_type": "markdown",
   "metadata": {},
   "source": [
    "# Question 2 - Part 1\n",
    "- Read all the json files in the folder called Data.\n",
    "- There are three categories of json files in this folder. They are identified by the key called “term” in each of the json file.\n",
    "- Create a folder structure to read all these json files and store them into these separate folders. You are expected to create a hierarchy of folder structure.\n",
    "- Output Format: Create a folder (Name: Data Processed).In this folder you should have a hierarchy of folder structures"
   ]
  },
  {
   "cell_type": "code",
   "execution_count": 1,
   "metadata": {
    "collapsed": false
   },
   "outputs": [],
   "source": [
    "import glob\n",
    "import json \n",
    "import os\n",
    "from os import path\n",
    "import shutil"
   ]
  },
  {
   "cell_type": "code",
   "execution_count": 2,
   "metadata": {
    "collapsed": false
   },
   "outputs": [],
   "source": [
    "SortedDataPath = os.getcwd() #get the current path \n",
    "directory = 'Data Processed'\n",
    "SortedDataPath = os.path.join(SortedDataPath, directory) #append the folder name to be created to form a new path \n",
    "#print(SortedDataPath)"
   ]
  },
  {
   "cell_type": "code",
   "execution_count": 3,
   "metadata": {
    "collapsed": false
   },
   "outputs": [],
   "source": [
    "for file in glob.glob('data/*.json'):                       #glob gets all the json files in 'data' folder. loop through each file\n",
    "    with open(file) as f:                                   #open the file\n",
    "        data = json.load(f)                                 #copy/load the data from the file \n",
    "        \n",
    "        location = data.get('location')                     #get the value of the key 'location' as data is a directory \n",
    "        country = location.get('country')                   \n",
    "        state = location.get('state')\n",
    "        city = location.get('city')\n",
    "        term = data.get('term')\n",
    "        \n",
    "        newpath = os.path.join(SortedDataPath, country)     #create a new path with country name \n",
    "        if not os.path.exists(newpath):                     #if the folder doesnt exist already, create new folder\n",
    "            os.makedirs(newpath)\n",
    "        \n",
    "        newpath = os.path.join(newpath, state)              #add state name to the path \n",
    "        if not os.path.exists(newpath):                     #if the state folder for that country doesnt exist, create new\n",
    "            os.makedirs(newpath)\n",
    "        \n",
    "        newpath = os.path.join(newpath, city)               #add city name to the path\n",
    "        if not os.path.exists(newpath):                     #if the city folder for that state doesnt exist, create new\n",
    "            os.makedirs(newpath)\n",
    "        \n",
    "        newpath = os.path.join(newpath, term)               #add term name to the path\n",
    "        if not os.path.exists(newpath):                     #if the term folder for that city doesnt exist, create new\n",
    "            os.makedirs(newpath)\n",
    "            \n",
    "        \n",
    "        shutil.copy(file , newpath)                         #move the file to the new location based on country,state,city and term"
   ]
  }
 ],
 "metadata": {
  "anaconda-cloud": {},
  "kernelspec": {
   "display_name": "Python [conda root]",
   "language": "python",
   "name": "conda-root-py"
  },
  "language_info": {
   "codemirror_mode": {
    "name": "ipython",
    "version": 3
   },
   "file_extension": ".py",
   "mimetype": "text/x-python",
   "name": "python",
   "nbconvert_exporter": "python",
   "pygments_lexer": "ipython3",
   "version": "3.5.2"
  }
 },
 "nbformat": 4,
 "nbformat_minor": 1
}
