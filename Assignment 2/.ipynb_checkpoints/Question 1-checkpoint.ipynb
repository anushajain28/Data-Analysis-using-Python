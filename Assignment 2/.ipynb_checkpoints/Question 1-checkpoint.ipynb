{
 "cells": [
  {
   "cell_type": "markdown",
   "metadata": {},
   "source": [
    "# Question 1\n",
    "- Learn and understand Zipf's Law.\n",
    "- Pick any file (or files) in NLTK package.\n",
    "- Prove if Zipf's law works in  Natural Language or not."
   ]
  },
  {
   "cell_type": "code",
   "execution_count": 25,
   "metadata": {
    "collapsed": true
   },
   "outputs": [],
   "source": [
    "import nltk"
   ]
  },
  {
   "cell_type": "code",
   "execution_count": 26,
   "metadata": {
    "collapsed": false
   },
   "outputs": [
    {
     "name": "stdout",
     "output_type": "stream",
     "text": [
      "['austen-emma.txt', 'austen-persuasion.txt', 'austen-sense.txt', 'bible-kjv.txt', 'blake-poems.txt', 'bryant-stories.txt', 'burgess-busterbrown.txt', 'carroll-alice.txt', 'chesterton-ball.txt', 'chesterton-brown.txt', 'chesterton-thursday.txt', 'edgeworth-parents.txt', 'melville-moby_dick.txt', 'milton-paradise.txt', 'shakespeare-caesar.txt', 'shakespeare-hamlet.txt', 'shakespeare-macbeth.txt', 'whitman-leaves.txt']\n"
     ]
    }
   ],
   "source": [
    "from nltk.corpus import gutenberg\n",
    "files = gutenberg.fileids()\n",
    "print(files)"
   ]
  },
  {
   "cell_type": "code",
   "execution_count": 27,
   "metadata": {
    "collapsed": true
   },
   "outputs": [],
   "source": [
    "import glob\n",
    "import operator\n",
    "import csv"
   ]
  },
  {
   "cell_type": "code",
   "execution_count": 28,
   "metadata": {
    "collapsed": false
   },
   "outputs": [
    {
     "name": "stdout",
     "output_type": "stream",
     "text": [
      "Frequency of each word:\n"
     ]
    }
   ],
   "source": [
    "all_words = []\n",
    "for file in files:\n",
    "    all_words.extend(nltk.corpus.gutenberg.words(file))\n",
    "\n",
    "word_freq = {}                           \n",
    "for word in all_words:                   #loop through all the words in the file\n",
    "    if word in word_freq:                #loop through all the keys in dict \n",
    "        word_freq[word] += 1             #if word is already in dict increment the counter\n",
    "    else:\n",
    "        word_freq[word] = 1              #if word is not in dict, add word as key and frequency as 1 \n",
    "#print('Frequency of each word:')\n",
    "#print(word_freq)"
   ]
  },
  {
   "cell_type": "code",
   "execution_count": 29,
   "metadata": {
    "collapsed": false
   },
   "outputs": [],
   "source": [
    "listOfSortedKeys = []                                                           \n",
    "listOfSortedKeys = sorted(word_freq, key=word_freq.__getitem__ , reverse= True) #sorting keys in descending order based on value\n",
    "#print('sorted frequency list')"
   ]
  },
  {
   "cell_type": "code",
   "execution_count": 30,
   "metadata": {
    "collapsed": false
   },
   "outputs": [
    {
     "name": "stdout",
     "output_type": "stream",
     "text": [
      "2621613\n"
     ]
    }
   ],
   "source": [
    "total_words = len(all_words)\n",
    "prob = 0\n",
    "print(total_words)\n",
    "def probability(freq):\n",
    "    global prob\n",
    "    prob = (freq / total_words)\n",
    "    return prob\n",
    "\n",
    "f = (lambda rank, prob: rank*prob)\n",
    "    "
   ]
  },
  {
   "cell_type": "code",
   "execution_count": 32,
   "metadata": {
    "collapsed": false
   },
   "outputs": [
    {
     "name": "stdout",
     "output_type": "stream",
     "text": [
      "word       Freq       Rank         Prob(r)                   A\n"
     ]
    }
   ],
   "source": [
    "print('word       Freq       Rank         Prob(r)                   A')\n",
    "rank = 0\n",
    "p = 0\n",
    "constant = 0\n",
    "freqFile = open ('FrequencyPlot.csv', 'wt')\n",
    "recordwriter = csv.writer(freqFile)\n",
    "for key in listOfSortedKeys:\n",
    "    rank += 1\n",
    "    p = probability(word_freq[key])\n",
    "    constant = f(rank,prob)\n",
    "    #print(key, '       ' ,word_freq[key] , '      ' , rank , '     ', p , '     ' , constant)\n",
    "    #record = key + ', ' + str(word_freq[key]) + ', ' + str(rank) + ', ' + str(p) + ', ' + str(constant)\n",
    "    #print(record)\n",
    "    recordwriter.writerow([key, str(word_freq[key]) , str(rank) , str(p) , str(constant)])\n",
    "    "
   ]
  },
  {
   "cell_type": "code",
   "execution_count": null,
   "metadata": {
    "collapsed": true
   },
   "outputs": [],
   "source": [
    "import csv\n",
    "with open('FrequencyPlot.csv', 'w', newline='') as csvfile:\n",
    "    recordwriter = csv.writer(csvfile, delimiter=' ',\n",
    "                            quotechar='|', quoting=csv.QUOTE_MINIMAL)\n",
    "    recordwriter.writerow([key,word_freq[key] , rank , p , consta])"
   ]
  },
  {
   "cell_type": "code",
   "execution_count": null,
   "metadata": {
    "collapsed": true
   },
   "outputs": [],
   "source": [
    "with open('FrequencyPlot.csv', 'w', newline='') as csvfile:\n",
    "        recordwriter = csv.writer(csvfile, delimiter=' ',\n",
    "                                  quotechar='|', quoting=csv.QUOTE_MINIMAL)\n",
    "        recordwriter.writerow([key,word_freq[key] , rank , p , constant])"
   ]
  }
 ],
 "metadata": {
  "anaconda-cloud": {},
  "kernelspec": {
   "display_name": "Python [conda root]",
   "language": "python",
   "name": "conda-root-py"
  },
  "language_info": {
   "codemirror_mode": {
    "name": "ipython",
    "version": 3
   },
   "file_extension": ".py",
   "mimetype": "text/x-python",
   "name": "python",
   "nbconvert_exporter": "python",
   "pygments_lexer": "ipython3",
   "version": "3.5.2"
  }
 },
 "nbformat": 4,
 "nbformat_minor": 1
}
