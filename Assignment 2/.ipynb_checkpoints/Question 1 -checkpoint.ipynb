{
 "cells": [
  {
   "cell_type": "markdown",
   "metadata": {},
   "source": [
    "# Question 1\n",
    "- Learn and understand Zipf's Law.\n",
    "- Pick any file (or files) in NLTK package.\n",
    "- Prove if Zipf's law works in  Natural Language or not.\n",
    "- Plot log-log graph of the data "
   ]
  },
  {
   "cell_type": "code",
   "execution_count": 1,
   "metadata": {
    "collapsed": true
   },
   "outputs": [],
   "source": [
    "import nltk\n",
    "import glob\n",
    "import csv\n",
    "import matplotlib.pyplot as plt\n",
    "import math\n",
    "import string"
   ]
  },
  {
   "cell_type": "code",
   "execution_count": 2,
   "metadata": {
    "collapsed": false
   },
   "outputs": [],
   "source": [
    "from nltk.corpus import gutenberg\n",
    "files = gutenberg.fileids()\n",
    "#print(files)"
   ]
  },
  {
   "cell_type": "code",
   "execution_count": 3,
   "metadata": {
    "collapsed": false
   },
   "outputs": [],
   "source": [
    "all_words = []\n",
    "for file in files:                                                 #loop through all files in glutenburg corpus     \n",
    "    all_words.extend(nltk.corpus.gutenberg.words(file))            #add all words in a sinle list\n",
    "\n",
    "all_words = [''.join(c for c in s if c not in set(string.punctuation)) for s in all_words]   #remove all punctuation words\n",
    "\n",
    "all_words = [x for x in all_words if x]                                                      #remove epmty string from list of words\n",
    "\n",
    "word_freq = {}                           \n",
    "for word in all_words:                   #loop through all the words in the file\n",
    "    if word in word_freq:                #loop through all the keys in dict \n",
    "        word_freq[word] += 1             #if word is already in dict increment the counter\n",
    "    else:\n",
    "        word_freq[word] = 1              #if word is not in dict, add word as key and frequency as 1 \n",
    "#print('Frequency of each word:')\n",
    "#print(word_freq)"
   ]
  },
  {
   "cell_type": "code",
   "execution_count": 4,
   "metadata": {
    "collapsed": false
   },
   "outputs": [],
   "source": [
    "listOfSortedKeys = []                                                           \n",
    "listOfSortedKeys = sorted(word_freq, key=word_freq.__getitem__ , reverse= True) #sorting keys in descending order based on value\n",
    "#print('sorted frequency list')"
   ]
  },
  {
   "cell_type": "code",
   "execution_count": 5,
   "metadata": {
    "collapsed": false
   },
   "outputs": [],
   "source": [
    "total_words = len(all_words)           #total number of words in list all the files\n",
    "prob = 0\n",
    "#print(total_words)\n",
    "def probability(freq):                 # function to calculate the probability of each word\n",
    "    global prob\n",
    "    prob = (freq / total_words)\n",
    "    return prob\n",
    "\n",
    "const = (lambda rank, prob: rank*prob)     #lambda function to calculate the constant for each word"
   ]
  },
  {
   "cell_type": "code",
   "execution_count": 6,
   "metadata": {
    "collapsed": false
   },
   "outputs": [],
   "source": [
    "rank = 0\n",
    "p = 0\n",
    "constant = 0\n",
    "xrank = []              # create a list to store log(rank) for the plot x-axis\n",
    "yfreq = []              # create a list to store log(prob) for the plot y-axis\n",
    "freqFile = open ('WordFrequencyPlot.csv', 'wt', newline = '') #create and open new CSV file in wirte mode\n",
    "recordwriter = csv.writer(freqFile)\n",
    "recordwriter.writerow(['WORD' , 'FREQUENCY' , 'RANK' , 'PROBABILITY' , 'Constant']) # write Title to CSV file\n",
    "\n",
    "for key in listOfSortedKeys:\n",
    "    rank += 1                        # for each word in the list rank is assigned and auto incremented\n",
    "    p = probability(word_freq[key])  #calling probability function with frequency as parameter passed\n",
    "    constant = const(rank,prob)      # passing rank and probabilty as parameters to function to calculate constant\n",
    "    recordwriter.writerow([key, str(word_freq[key]) , str(rank) , str(p) , str(constant)]) #for each key write a record in the CSV file   \n",
    "    \n",
    "    xrank.append(math.log(rank))             #calculate the log of rank and add to list for plot\n",
    "    yfreq.append(math.log(word_freq[key]))   #calculate the log of frequency and add to list for plot\n",
    "    \n",
    "freqFile.close()                     #close the CSV file"
   ]
  },
  {
   "cell_type": "code",
   "execution_count": 7,
   "metadata": {
    "collapsed": false
   },
   "outputs": [
    {
     "data": {
      "image/png": "[encoded data removed]",
      "text/plain": [
       "<matplotlib.figure.Figure at 0x29cfb4a14e0>"
      ]
     },
     "metadata": {},
     "output_type": "display_data"
    }
   ],
   "source": [
    "plt.title('Word Frequency Plot')    #title of the Plot\n",
    "plt.xlabel('log(rank)')             #x-axis lable of the plot\n",
    "plt.ylabel('log(frequency)')        #y-axis lable of the plot\n",
    "plt.grid(True)\n",
    "\n",
    "plt.plot(xrank, yfreq)              #plot the graph with the values stored in list \n",
    "plt.show()"
   ]
  },
  {
   "cell_type": "markdown",
   "metadata": {
    "collapsed": true
   },
   "source": [
    "# Conclusion \n",
    "From the plot it can be stated that Zipf's law stands true for Natural Language"
   ]
  }
 ],
 "metadata": {
  "anaconda-cloud": {},
  "kernelspec": {
   "display_name": "Python [conda root]",
   "language": "python",
   "name": "conda-root-py"
  },
  "language_info": {
   "codemirror_mode": {
    "name": "ipython",
    "version": 3
   },
   "file_extension": ".py",
   "mimetype": "text/x-python",
   "name": "python",
   "nbconvert_exporter": "python",
   "pygments_lexer": "ipython3",
   "version": "3.5.2"
  }
 },
 "nbformat": 4,
 "nbformat_minor": 1
}
