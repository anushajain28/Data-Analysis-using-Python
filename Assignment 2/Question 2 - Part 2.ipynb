{
 "cells": [
  {
   "cell_type": "markdown",
   "metadata": {},
   "source": [
    "# Question 2\n",
    "- Read all the json files in the folder called Data.\n",
    "- Read only the json files which contain the key called “restaurants”\n",
    "- Each (or most of the json files) contain a key called “open” which contains the details of the operation (timings) of the restaurants. For each json file, read the timings of the restaurants.\n",
    "- Data of the operation timings of the restaurants is present for each day of the week. I want you to extract each of this data and write it in an excel sheet."
   ]
  },
  {
   "cell_type": "code",
   "execution_count": 1,
   "metadata": {
    "collapsed": true
   },
   "outputs": [],
   "source": [
    "import glob\n",
    "import json\n",
    "import csv\n",
    "import os\n",
    "import time"
   ]
  },
  {
   "cell_type": "code",
   "execution_count": 2,
   "metadata": {
    "collapsed": false
   },
   "outputs": [],
   "source": [
    "DataPath = os.getcwd()  #get the current path "
   ]
  },
  {
   "cell_type": "code",
   "execution_count": 3,
   "metadata": {
    "collapsed": false
   },
   "outputs": [],
   "source": [
    "hourLogFile = open ('Restaurant_Timings.csv', 'wt', newline = '' , encoding='utf-8') #create and open CSV file in wirte mode\n",
    "recordwriter = csv.writer(hourLogFile)\n",
    "recordwriter.writerow(['Name of the restaurant' , 'City' , 'Country Code' , 'Day of week' , 'Start Time: Hour', 'Start Time: Minute', 'End Time: Hour', 'End Time: Minute'])  #write Header to thr file\n",
    "                                             \n",
    "for file in glob.glob('data/*.json'):    #glob reads all the json files in 'data' folder\n",
    "    with open(file) as f:                #open a file\n",
    "        data = json.load(f)              #copy/load the data from json file\n",
    "        term = data.get('term')\n",
    "        location = data.get('location')\n",
    "        country = location.get('country')\n",
    "        city = location.get('city')\n",
    "        name = data.get('name')\n",
    "        if term == 'restaurants':        #process only those file that have term value as restaurant\n",
    "            if 'hours' in data:          #proceed only if the file has a key 'hours' \n",
    "                hours = data.get('hours')\n",
    "                #print(hours)\n",
    "                for openHours in hours:   \n",
    "                    openHour = openHours['open']  #get the value of key 'open' to get the start time and end time\n",
    "                    #print(openHour)\n",
    "                    for x in openHour:            #loop through values of array to get start time and end timefor each day\n",
    "                        startTime = x['start']\n",
    "                        startTime = time.strptime(startTime, \"%H%M\") #convert string into time format \n",
    "                        startTimeHour = startTime[3]                 #take the hour part of the time\n",
    "                        startTimeMin = startTime[4]                  #take the minute part of the time\n",
    "                        endTime = x['end']\n",
    "                        endTime = time.strptime(endTime, \"%H%M\")\n",
    "                        endTimeHour = endTime[3]\n",
    "                        endTimeMin = endTime[4]\n",
    "                        dayOfWeek = x['day']\n",
    "                        recordwriter.writerow([name , city , country , dayOfWeek , startTimeHour, startTimeMin, endTimeHour,endTimeMin])  #write the value to CSV file\n",
    "\n",
    "hourLogFile.close()                     #close the CSV file "
   ]
  }
 ],
 "metadata": {
  "anaconda-cloud": {},
  "kernelspec": {
   "display_name": "Python [conda root]",
   "language": "python",
   "name": "conda-root-py"
  },
  "language_info": {
   "codemirror_mode": {
    "name": "ipython",
    "version": 3
   },
   "file_extension": ".py",
   "mimetype": "text/x-python",
   "name": "python",
   "nbconvert_exporter": "python",
   "pygments_lexer": "ipython3",
   "version": "3.5.2"
  }
 },
 "nbformat": 4,
 "nbformat_minor": 1
}
