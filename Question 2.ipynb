{
 "cells": [
  {
   "cell_type": "markdown",
   "metadata": {},
   "source": [
    "# Question 2\n",
    "- Under package Gutenberg get content from file 'melville-moby_dick.txt.' (HINT: Words? Raw?)\n",
    "- Find out frequency of 26 characters. (Turn uppercase into lowercase and count as one character)\n",
    "- List all 26 characters in order base on their frequency. (From most frequent to least frequent)\n"
   ]
  },
  {
   "cell_type": "code",
   "execution_count": 2,
   "metadata": {
    "collapsed": true
   },
   "outputs": [],
   "source": [
    "import nltk"
   ]
  },
  {
   "cell_type": "code",
   "execution_count": 3,
   "metadata": {
    "collapsed": false
   },
   "outputs": [
    {
     "data": {
      "text/plain": [
       "['austen-emma.txt',\n",
       " 'austen-persuasion.txt',\n",
       " 'austen-sense.txt',\n",
       " 'bible-kjv.txt',\n",
       " 'blake-poems.txt',\n",
       " 'bryant-stories.txt',\n",
       " 'burgess-busterbrown.txt',\n",
       " 'carroll-alice.txt',\n",
       " 'chesterton-ball.txt',\n",
       " 'chesterton-brown.txt',\n",
       " 'chesterton-thursday.txt',\n",
       " 'edgeworth-parents.txt',\n",
       " 'melville-moby_dick.txt',\n",
       " 'milton-paradise.txt',\n",
       " 'shakespeare-caesar.txt',\n",
       " 'shakespeare-hamlet.txt',\n",
       " 'shakespeare-macbeth.txt',\n",
       " 'whitman-leaves.txt']"
      ]
     },
     "execution_count": 3,
     "metadata": {},
     "output_type": "execute_result"
    }
   ],
   "source": [
    "from nltk.corpus import gutenberg\n",
    "gutenberg.fileids()"
   ]
  },
  {
   "cell_type": "code",
   "execution_count": 4,
   "metadata": {
    "collapsed": false
   },
   "outputs": [
    {
     "name": "stdout",
     "output_type": "stream",
     "text": [
      "['[', 'Moby', 'Dick', 'by', 'Herman', 'Melville', ...]\n"
     ]
    }
   ],
   "source": [
    "word_txt = nltk.corpus.gutenberg.words('melville-moby_dick.txt')\n",
    "print(word_txt)\n",
    "words = []\n",
    "for word in word_txt:\n",
    "    words.append(word.lower())               #convert all the words in lower case\n",
    "#print(words)"
   ]
  },
  {
   "cell_type": "code",
   "execution_count": 5,
   "metadata": {
    "collapsed": false
   },
   "outputs": [],
   "source": [
    "letters = ['a', 'b','c','d','e','f','g','h','i','j','k','l','m','n','o','p','q','r','s','t','u','v','w','x','y','z']"
   ]
  },
  {
   "cell_type": "code",
   "execution_count": 6,
   "metadata": {
    "collapsed": false
   },
   "outputs": [
    {
     "name": "stdout",
     "output_type": "stream",
     "text": [
      "Frequency of characters is:\n",
      "\n",
      "Characters  Frequency\n",
      "r            52134\n",
      "i            65434\n",
      "o            69326\n",
      "x            1030\n",
      "e            117092\n",
      "q            1556\n",
      "v            8598\n",
      "s            64231\n",
      "f            20833\n",
      "n            65617\n",
      "p            17255\n",
      "t            87996\n",
      "m            23277\n",
      "k            8059\n",
      "d            38219\n",
      "j            1082\n",
      "g            20820\n",
      "b            16877\n",
      "u            26697\n",
      "w            22222\n",
      "y            16872\n",
      "z            632\n",
      "l            42793\n",
      "a            77916\n",
      "c            22507\n",
      "h            62896\n"
     ]
    }
   ],
   "source": [
    "count = {}                                     # dict to maintain frequency of each letter\n",
    "\n",
    "for word in words:                             #loop through all the words in list\n",
    "    for char in word:                          #loop through each character in the word\n",
    "        if char in letters:                    #check if character is a letter\n",
    "            if char in count:\n",
    "                count[char] += 1\n",
    "            else:\n",
    "                count[char] = 1\n",
    "\n",
    "print('Frequency of characters is:')\n",
    "print('')\n",
    "print('Characters  Frequency')\n",
    "for key in count:\n",
    "    print (key,'          ', count[key])"
   ]
  },
  {
   "cell_type": "code",
   "execution_count": 7,
   "metadata": {
    "collapsed": false
   },
   "outputs": [
    {
     "name": "stdout",
     "output_type": "stream",
     "text": [
      "Sorted list of characters based on frequency is:\n",
      "\n",
      "Characters  Frequency\n",
      "e            117092\n",
      "t            87996\n",
      "a            77916\n",
      "o            69326\n",
      "n            65617\n",
      "i            65434\n",
      "s            64231\n",
      "h            62896\n",
      "r            52134\n",
      "l            42793\n",
      "d            38219\n",
      "u            26697\n",
      "m            23277\n",
      "c            22507\n",
      "w            22222\n",
      "f            20833\n",
      "g            20820\n",
      "p            17255\n",
      "b            16877\n",
      "y            16872\n",
      "v            8598\n",
      "k            8059\n",
      "q            1556\n",
      "j            1082\n",
      "x            1030\n",
      "z            632\n"
     ]
    }
   ],
   "source": [
    "sortedKeyList = sorted(count, key=count.__getitem__  , reverse= True)  #sort the list based on frequency\n",
    "#print(sortedKeyList)\n",
    "print('Sorted list of characters based on frequency is:')\n",
    "print('')\n",
    "print('Characters  Frequency')\n",
    "for key in sortedKeyList:\n",
    "    print (key,'          ', count[key])"
   ]
  }
 ],
 "metadata": {
  "anaconda-cloud": {},
  "kernelspec": {
   "display_name": "Python [conda root]",
   "language": "python",
   "name": "conda-root-py"
  },
  "language_info": {
   "codemirror_mode": {
    "name": "ipython",
    "version": 3
   },
   "file_extension": ".py",
   "mimetype": "text/x-python",
   "name": "python",
   "nbconvert_exporter": "python",
   "pygments_lexer": "ipython3",
   "version": "3.5.2"
  }
 },
 "nbformat": 4,
 "nbformat_minor": 1
}
