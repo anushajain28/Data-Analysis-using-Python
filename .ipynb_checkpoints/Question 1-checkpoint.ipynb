{
 "cells": [
  {
   "cell_type": "markdown",
   "metadata": {},
   "source": [
    "# Question 1\n",
    "- Under package Gutenberg, see what files are in it.\n",
    "- Find out how many words and how many unique words in file 'austen-persuasion.txt'.\n",
    "- Calculate the frequency for each words and show the top 10 most frequent words and their frequency.\n",
    "- Keep the punctuation and stop words in this question."
   ]
  },
  {
   "cell_type": "code",
   "execution_count": 5,
   "metadata": {
    "collapsed": false
   },
   "outputs": [],
   "source": [
    "import nltk"
   ]
  },
  {
   "cell_type": "code",
   "execution_count": 3,
   "metadata": {
    "collapsed": false
   },
   "outputs": [
    {
     "data": {
      "text/plain": [
       "['austen-emma.txt',\n",
       " 'austen-persuasion.txt',\n",
       " 'austen-sense.txt',\n",
       " 'bible-kjv.txt',\n",
       " 'blake-poems.txt',\n",
       " 'bryant-stories.txt',\n",
       " 'burgess-busterbrown.txt',\n",
       " 'carroll-alice.txt',\n",
       " 'chesterton-ball.txt',\n",
       " 'chesterton-brown.txt',\n",
       " 'chesterton-thursday.txt',\n",
       " 'edgeworth-parents.txt',\n",
       " 'melville-moby_dick.txt',\n",
       " 'milton-paradise.txt',\n",
       " 'shakespeare-caesar.txt',\n",
       " 'shakespeare-hamlet.txt',\n",
       " 'shakespeare-macbeth.txt',\n",
       " 'whitman-leaves.txt']"
      ]
     },
     "execution_count": 3,
     "metadata": {},
     "output_type": "execute_result"
    }
   ],
   "source": [
    "from nltk.corpus import gutenberg\n",
    "gutenberg.fileids()"
   ]
  },
  {
   "cell_type": "code",
   "execution_count": 4,
   "metadata": {
    "collapsed": false
   },
   "outputs": [
    {
     "name": "stdout",
     "output_type": "stream",
     "text": [
      "Total Number of words in file austen-persuasion.txt: 98171\n",
      "Number of unique words in file austen-persuasion.txt: 6132\n"
     ]
    }
   ],
   "source": [
    "word_count = len(nltk.corpus.gutenberg.words('austen-persuasion.txt')) #total words in a file\n",
    "print('Total Number of words in file austen-persuasion.txt:', word_count)\n",
    "unique_words = len(set(nltk.corpus.gutenberg.words('austen-persuasion.txt'))) #remove the duplicate words from the list of words\n",
    "print('Number of unique words in file austen-persuasion.txt:', unique_words)"
   ]
  },
  {
   "cell_type": "code",
   "execution_count": 10,
   "metadata": {
    "collapsed": false
   },
   "outputs": [
    {
     "name": "stdout",
     "output_type": "stream",
     "text": [
      "Frequency of each word:\n"
     ]
    }
   ],
   "source": [
    "all_words = nltk.corpus.gutenberg.words('austen-persuasion.txt') \n",
    "word_freq = {}                           \n",
    "for word in all_words:                   #loop through all the words in the file\n",
    "    if word in word_freq:                #loop through all the keys in dict \n",
    "        word_freq[word] += 1             #if word is already in dict increment the counter\n",
    "    else:\n",
    "        word_freq[word] = 1              #if word is not in dict, add word as key and frequency as 1 \n",
    "print('Frequency of each word:')\n",
    "#print(word_freq)[:20]"
   ]
  },
  {
   "cell_type": "code",
   "execution_count": 11,
   "metadata": {
    "collapsed": false
   },
   "outputs": [],
   "source": [
    "listOfSortedKeys = []                                                           \n",
    "listOfSortedKeys = sorted(word_freq, key=word_freq.__getitem__ , reverse= True) #sorting keys in descending order based on value"
   ]
  },
  {
   "cell_type": "code",
   "execution_count": 12,
   "metadata": {
    "collapsed": false
   },
   "outputs": [],
   "source": [
    "top10Keys = listOfSortedKeys[0:10]             #top 10 keys from the list\n",
    "#print(top10Keys)"
   ]
  },
  {
   "cell_type": "code",
   "execution_count": 13,
   "metadata": {
    "collapsed": false
   },
   "outputs": [
    {
     "name": "stdout",
     "output_type": "stream",
     "text": [
      "Frequency of top 10 words in the file is: \n",
      "\n",
      "Word  Frequency\n",
      ",     6750\n",
      "the     3120\n",
      "to     2775\n",
      ".     2741\n",
      "and     2739\n",
      "of     2564\n",
      "a     1529\n",
      "in     1346\n",
      "was     1330\n",
      ";     1290\n"
     ]
    }
   ],
   "source": [
    "print('Frequency of top 10 words in the file is: ') \n",
    "print('')\n",
    "print('Word', '' , 'Frequency')\n",
    "for key in top10Keys:\n",
    "    print(key, '   ' ,word_freq[key])"
   ]
  },
  {
   "cell_type": "code",
   "execution_count": null,
   "metadata": {
    "collapsed": true
   },
   "outputs": [],
   "source": []
  },
  {
   "cell_type": "code",
   "execution_count": null,
   "metadata": {
    "collapsed": true
   },
   "outputs": [],
   "source": []
  },
  {
   "cell_type": "code",
   "execution_count": null,
   "metadata": {
    "collapsed": true
   },
   "outputs": [],
   "source": []
  }
 ],
 "metadata": {
  "anaconda-cloud": {},
  "kernelspec": {
   "display_name": "Python [conda root]",
   "language": "python",
   "name": "conda-root-py"
  },
  "language_info": {
   "codemirror_mode": {
    "name": "ipython",
    "version": 3
   },
   "file_extension": ".py",
   "mimetype": "text/x-python",
   "name": "python",
   "nbconvert_exporter": "python",
   "pygments_lexer": "ipython3",
   "version": "3.5.2"
  }
 },
 "nbformat": 4,
 "nbformat_minor": 1
}
