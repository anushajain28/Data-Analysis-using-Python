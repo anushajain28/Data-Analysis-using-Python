{
 "cells": [
  {
   "cell_type": "markdown",
   "metadata": {},
   "source": [
    "# Question 8\n",
    "- Use nps_chat and wordlist corpus.\n",
    "- If you find a word in nps_chat but not in wordlist, it is considered an unusual word. (e.g. Heyyyy, gr8, 4ever can be   considered unusual words for this analysis)\n",
    "- Find out how many unusual words people speak in chat (notice: usernames should not be counted)\n",
    "- Bonus: What if I want to  count : ) , : ( all these emoticons in. (optional)\n"
   ]
  },
  {
   "cell_type": "code",
   "execution_count": 86,
   "metadata": {
    "collapsed": true
   },
   "outputs": [],
   "source": [
    "import nltk\n",
    "import string"
   ]
  },
  {
   "cell_type": "code",
   "execution_count": 70,
   "metadata": {
    "collapsed": true
   },
   "outputs": [],
   "source": [
    "from nltk.corpus import nps_chat as nps\n",
    "from nltk.corpus import words\n",
    "import xml.etree.ElementTree as ET"
   ]
  },
  {
   "cell_type": "code",
   "execution_count": 71,
   "metadata": {
    "collapsed": false
   },
   "outputs": [
    {
     "name": "stdout",
     "output_type": "stream",
     "text": [
      "['10-19-20s_706posts.xml', '10-19-30s_705posts.xml', '10-19-40s_686posts.xml', '10-19-adults_706posts.xml', '10-24-40s_706posts.xml', '10-26-teens_706posts.xml', '11-06-adults_706posts.xml', '11-08-20s_705posts.xml', '11-08-40s_706posts.xml', '11-08-adults_705posts.xml', '11-08-teens_706posts.xml', '11-09-20s_706posts.xml', '11-09-40s_706posts.xml', '11-09-adults_706posts.xml', '11-09-teens_706posts.xml']\n"
     ]
    }
   ],
   "source": [
    "all_files = nps.fileids()\n",
    "print(all_files)"
   ]
  },
  {
   "cell_type": "code",
   "execution_count": 98,
   "metadata": {
    "collapsed": false
   },
   "outputs": [],
   "source": [
    "words_inChat = []\n",
    "for file in all_files:\n",
    "    words_eachFile = []\n",
    "    xmlstr = nltk.corpus.nps_chat.raw(file)\n",
    "    root = ET.fromstring(xmlstr)\n",
    "    words_eachFile = []\n",
    "    for child in root:\n",
    "        #print(child.tag , child.attrib)\n",
    "        for post in child:\n",
    "            #print(post.tag, post.attrib)\n",
    "            for terminal in post :\n",
    "                #print(terminal.tag , terminal.attrib)\n",
    "                for t in terminal:\n",
    "                    #print(t.tag , t.attrib)\n",
    "                    word=t.get('word')\n",
    "                    words_eachFile.append(word)\n",
    "    words_inChat.extend(words_eachFile)\n",
    "words_inChat = set(words_inChat)  #remove redundant words\n",
    "#print(len(words_inChat))\n",
    "#print(words_inChat)"
   ]
  },
  {
   "cell_type": "code",
   "execution_count": 76,
   "metadata": {
    "collapsed": false
   },
   "outputs": [],
   "source": [
    "posts = nltk.corpus.nps_chat.xml_posts()  #get all the posts "
   ]
  },
  {
   "cell_type": "code",
   "execution_count": 78,
   "metadata": {
    "collapsed": false
   },
   "outputs": [],
   "source": [
    "users = []\n",
    "for post in posts:                            #loop through all the posts in nps_chat\n",
    "    user = post.get(\"user\")                   #get all the users\n",
    "    users.append(user)\n",
    "#print(users)"
   ]
  },
  {
   "cell_type": "code",
   "execution_count": 83,
   "metadata": {
    "collapsed": true
   },
   "outputs": [],
   "source": [
    "words_inChat = [word for word in words_inChat if word not in users] #remove user names from words_inChat list"
   ]
  },
  {
   "cell_type": "code",
   "execution_count": 93,
   "metadata": {
    "collapsed": false
   },
   "outputs": [
    {
     "name": "stdout",
     "output_type": "stream",
     "text": [
      "5706\n"
     ]
    }
   ],
   "source": [
    "print(len(words_inChat))\n",
    "#print(words_inChat)"
   ]
  },
  {
   "cell_type": "code",
   "execution_count": 92,
   "metadata": {
    "collapsed": false
   },
   "outputs": [],
   "source": [
    "words_inChat = [''.join(c for c in s if c not in set(string.punctuation)) for s in words_inChat]   #remove all punctuation words\n",
    "words_inChat = [x for x in words_inChat if x]                                                      #remove epmty string from list of words\n",
    "#print(words_inChat)"
   ]
  },
  {
   "cell_type": "code",
   "execution_count": 97,
   "metadata": {
    "collapsed": false
   },
   "outputs": [],
   "source": [
    "words_inWordlist = nltk.corpus.words.words()           # get all the words from Wordlist corpora\n",
    "#print(words_inWordlist)"
   ]
  },
  {
   "cell_type": "code",
   "execution_count": 96,
   "metadata": {
    "collapsed": false
   },
   "outputs": [
    {
     "name": "stdout",
     "output_type": "stream",
     "text": [
      "Number of unusual words that people speak in chat are:  3220\n"
     ]
    }
   ],
   "source": [
    "unusual_words = []\n",
    "unusual_words = [word for word in words_inChat if word not in words_inWordlist] #select the words that are in nps_chat but not in wordlist\n",
    "print('Number of unusual words that people speak in chat are: ', len(unusual_words))\n",
    "#print(unusual_words)"
   ]
  }
 ],
 "metadata": {
  "kernelspec": {
   "display_name": "Python [conda root]",
   "language": "python",
   "name": "conda-root-py"
  },
  "language_info": {
   "codemirror_mode": {
    "name": "ipython",
    "version": 3
   },
   "file_extension": ".py",
   "mimetype": "text/x-python",
   "name": "python",
   "nbconvert_exporter": "python",
   "pygments_lexer": "ipython3",
   "version": "3.5.2"
  }
 },
 "nbformat": 4,
 "nbformat_minor": 1
}
