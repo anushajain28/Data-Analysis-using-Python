{
 "cells": [
  {
   "cell_type": "markdown",
   "metadata": {},
   "source": [
    "# Question 6\n",
    "- Under Inaugural Address package\n",
    "- For every president, find out how many unique words they used in speech. \n",
    "- We will just assume that President Bush means one person (technically it is incorrect but we will ignore it)"
   ]
  },
  {
   "cell_type": "code",
   "execution_count": 1,
   "metadata": {
    "collapsed": true
   },
   "outputs": [],
   "source": [
    "import nltk"
   ]
  },
  {
   "cell_type": "code",
   "execution_count": 2,
   "metadata": {
    "collapsed": false
   },
   "outputs": [],
   "source": [
    "from nltk.corpus import inaugural"
   ]
  },
  {
   "cell_type": "code",
   "execution_count": 3,
   "metadata": {
    "collapsed": false
   },
   "outputs": [],
   "source": [
    "all_files =[]\n",
    "all_files = inaugural.fileids() #get all files and put them in a list \n",
    "#print(all_files)"
   ]
  },
  {
   "cell_type": "code",
   "execution_count": 4,
   "metadata": {
    "collapsed": true
   },
   "outputs": [],
   "source": [
    "president_list = []\n",
    "sorted_president_list = []"
   ]
  },
  {
   "cell_type": "code",
   "execution_count": 5,
   "metadata": {
    "collapsed": true
   },
   "outputs": [],
   "source": [
    "for file in all_files:\n",
    "    name = file[5:-4]     # get names of president from the file name\n",
    "    president_list.append(name)"
   ]
  },
  {
   "cell_type": "code",
   "execution_count": 6,
   "metadata": {
    "collapsed": false
   },
   "outputs": [
    {
     "name": "stdout",
     "output_type": "stream",
     "text": [
      "List of presidents:  {'Harrison', 'Clinton', 'Coolidge', 'VanBuren', 'Nixon', 'Adams', 'Hoover', 'Cleveland', 'Eisenhower', 'Jackson', 'Pierce', 'Buchanan', 'Roosevelt', 'Jefferson', 'Grant', 'Madison', 'Washington', 'Taft', 'Hayes', 'Reagan', 'Monroe', 'Johnson', 'Polk', 'Harding', 'Bush', 'Obama', 'Wilson', 'Lincoln', 'McKinley', 'Truman', 'Taylor', 'Carter', 'Garfield', 'Kennedy'}\n",
      "Sorted List:  ['Adams', 'Buchanan', 'Bush', 'Carter', 'Cleveland', 'Clinton', 'Coolidge', 'Eisenhower', 'Garfield', 'Grant', 'Harding', 'Harrison', 'Hayes', 'Hoover', 'Jackson', 'Jefferson', 'Johnson', 'Kennedy', 'Lincoln', 'Madison', 'McKinley', 'Monroe', 'Nixon', 'Obama', 'Pierce', 'Polk', 'Reagan', 'Roosevelt', 'Taft', 'Taylor', 'Truman', 'VanBuren', 'Washington', 'Wilson']\n"
     ]
    }
   ],
   "source": [
    "president_list = set(president_list) #remove redundant names\n",
    "print('List of presidents: ', president_list)\n",
    "sorted_president_list = sorted(president_list) #sort the names in ascending order\n",
    "print('Sorted List: ', sorted_president_list )"
   ]
  },
  {
   "cell_type": "code",
   "execution_count": 7,
   "metadata": {
    "collapsed": false
   },
   "outputs": [],
   "source": [
    "words_inSpeech = {} # create a directory to keep count of words in speech as key value pair\n",
    "for file in all_files:\n",
    "    name = file[5:-4]     # get names of president from the file name\n",
    "    if name not in words_inSpeech:\n",
    "        words_inSpeech[name] = list(nltk.corpus.inaugural.words(file)) #if president name is not in dict add name as key and words in speech as list in value\n",
    "    else:\n",
    "        words_inSpeech[name].extend(nltk.corpus.inaugural.words(file)) #if president name is already in dict append words of new speech to list of existing words\n",
    "        "
   ]
  },
  {
   "cell_type": "code",
   "execution_count": 8,
   "metadata": {
    "collapsed": false
   },
   "outputs": [
    {
     "name": "stdout",
     "output_type": "stream",
     "text": [
      " Number of unique words in Reagan 's speech is:  1453\n",
      " Number of unique words in Bush 's speech is:  1578\n",
      " Number of unique words in Monroe 's speech is:  1781\n",
      " Number of unique words in Coolidge 's speech is:  1221\n",
      " Number of unique words in VanBuren 's speech is:  1318\n",
      " Number of unique words in Johnson 's speech is:  571\n",
      " Number of unique words in Nixon 's speech is:  1037\n",
      " Number of unique words in Polk 's speech is:  1333\n",
      " Number of unique words in Harding 's speech is:  1170\n",
      " Number of unique words in Adams 's speech is:  1503\n",
      " Number of unique words in Carter 's speech is:  529\n",
      " Number of unique words in Hoover 's speech is:  1087\n",
      " Number of unique words in Obama 's speech is:  938\n",
      " Number of unique words in Pierce 's speech is:  1168\n",
      " Number of unique words in Cleveland 's speech is:  1219\n",
      " Number of unique words in Eisenhower 's speech is:  1250\n",
      " Number of unique words in Jackson 's speech is:  846\n",
      " Number of unique words in Buchanan 's speech is:  948\n",
      " Number of unique words in Wilson 's speech is:  996\n",
      " Number of unique words in Roosevelt 's speech is:  1704\n",
      " Number of unique words in Jefferson 's speech is:  1261\n",
      " Number of unique words in Lincoln 's speech is:  1261\n",
      " Number of unique words in Truman 's speech is:  781\n",
      " Number of unique words in Clinton 's speech is:  1138\n",
      " Number of unique words in Grant 's speech is:  855\n",
      " Number of unique words in Garfield 's speech is:  1022\n",
      " Number of unique words in Taylor 's speech is:  499\n",
      " Number of unique words in Harrison 's speech is:  2662\n",
      " Number of unique words in Kennedy 's speech is:  570\n",
      " Number of unique words in Madison 's speech is:  899\n",
      " Number of unique words in Washington 's speech is:  663\n",
      " Number of unique words in McKinley 's speech is:  1682\n",
      " Number of unique words in Taft 's speech is:  1439\n",
      " Number of unique words in Hayes 's speech is:  832\n"
     ]
    }
   ],
   "source": [
    "for name in words_inSpeech:\n",
    "    total_unique_words = set(words_inSpeech[name]).__len__()\n",
    "    print(' Number of unique words in' , name , \"'s speech is: \", total_unique_words)"
   ]
  }
 ],
 "metadata": {
  "kernelspec": {
   "display_name": "Python [conda root]",
   "language": "python",
   "name": "conda-root-py"
  },
  "language_info": {
   "codemirror_mode": {
    "name": "ipython",
    "version": 3
   },
   "file_extension": ".py",
   "mimetype": "text/x-python",
   "name": "python",
   "nbconvert_exporter": "python",
   "pygments_lexer": "ipython3",
   "version": "3.5.2"
  }
 },
 "nbformat": 4,
 "nbformat_minor": 1
}
