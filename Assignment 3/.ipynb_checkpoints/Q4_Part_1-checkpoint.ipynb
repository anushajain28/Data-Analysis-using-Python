{
 "cells": [
  {
   "cell_type": "code",
   "execution_count": 1,
   "metadata": {
    "collapsed": true
   },
   "outputs": [],
   "source": [
    "import pandas as pd\n",
    "import os\n",
    "import calendar\n",
    "import numpy as np\n",
    "import re"
   ]
  },
  {
   "cell_type": "code",
   "execution_count": 2,
   "metadata": {
    "collapsed": true
   },
   "outputs": [],
   "source": [
    "current_path =os.path.expanduser('~')\n",
    "current_path =os.path.join(current_path,'Assignment 3')\n",
    "current_path =os.path.join(current_path,'Data')"
   ]
  },
  {
   "cell_type": "code",
   "execution_count": 3,
   "metadata": {
    "collapsed": true
   },
   "outputs": [],
   "source": [
    "df = pd.read_csv( current_path + '\\\\movies_awards.csv')   #read csv file"
   ]
  },
  {
   "cell_type": "code",
   "execution_count": 4,
   "metadata": {
    "collapsed": false
   },
   "outputs": [],
   "source": [
    "df1= df['Awards']\n",
    "df1 = pd.DataFrame(df1)\n",
    "df1 = df1.dropna()\n",
    "#df1.head(20)"
   ]
  },
  {
   "cell_type": "code",
   "execution_count": 5,
   "metadata": {
    "collapsed": false
   },
   "outputs": [],
   "source": [
    "df1['Awards_won'] = df1['Awards'].apply(lambda x : (re.findall(r\"(\\d+) win\", x)))\n",
    "df1['Awards_won'] = df1['Awards_won'].apply(lambda x : [0] if len(x)==0 else x)\n",
    "df1['Awards_won'] = df1['Awards_won'].apply(lambda x : list(map(int,x))[0])\n",
    "#df1.head(10)"
   ]
  },
  {
   "cell_type": "code",
   "execution_count": 6,
   "metadata": {
    "collapsed": false
   },
   "outputs": [],
   "source": [
    "df1['Awards_nominated'] = df1['Awards'].apply(lambda x : (re.findall(r\"(\\d+) nom\", x)))\n",
    "df1['Awards_nominated'] = df1['Awards_nominated'].apply(lambda x : [0] if len(x)==0 else x)\n",
    "df1['Awards_nominated'] = df1['Awards_nominated'].apply(lambda x : list(map(int,x))[0])\n",
    "#df1.head(30)"
   ]
  },
  {
   "cell_type": "code",
   "execution_count": 7,
   "metadata": {
    "collapsed": false
   },
   "outputs": [],
   "source": [
    "df1['Prime_Awards_nominated'] = df1['Awards'].apply(lambda x : (re.findall(r\"Nominated for (\\d+) Prime\", x)))\n",
    "df1['Prime_Awards_nominated'] = df1['Prime_Awards_nominated'].apply(lambda x : [0] if len(x)==0 else x)\n",
    "df1['Prime_Awards_nominated'] = df1['Prime_Awards_nominated'].apply(lambda x : list(map(int,x))[0])\n",
    "df1['Awards_nominated'] = df1['Awards_nominated'] + df1['Prime_Awards_nominated']\n",
    "#df1.head(30)"
   ]
  },
  {
   "cell_type": "code",
   "execution_count": 8,
   "metadata": {
    "collapsed": false
   },
   "outputs": [],
   "source": [
    "df1['Oscar_Awards_nominated'] = df1['Awards'].apply(lambda x : (re.findall(r\"Nominated for (\\d+) Oscar\", x)))\n",
    "df1['Oscar_Awards_nominated'] = df1['Oscar_Awards_nominated'].apply(lambda x : [0] if len(x)==0 else x)\n",
    "df1['Oscar_Awards_nominated'] = df1['Oscar_Awards_nominated'].apply(lambda x : list(map(int,x))[0])\n",
    "df1['Awards_nominated'] = df1['Awards_nominated'] + df1['Oscar_Awards_nominated']\n",
    "#df1.head(30)"
   ]
  },
  {
   "cell_type": "code",
   "execution_count": 9,
   "metadata": {
    "collapsed": false
   },
   "outputs": [],
   "source": [
    "df1['Golden_Globe_Awards_nominated'] = df1['Awards'].apply(lambda x : (re.findall(r\"Nominated for (\\d+) Golden\", x)))\n",
    "df1['Golden_Globe_Awards_nominated'] = df1['Golden_Globe_Awards_nominated'].apply(lambda x : [0] if len(x)==0 else x)\n",
    "df1['Golden_Globe_Awards_nominated'] = df1['Golden_Globe_Awards_nominated'].apply(lambda x : list(map(int,x))[0])\n",
    "df1['Awards_nominated'] = df1['Awards_nominated'] + df1['Golden_Globe_Awards_nominated']\n",
    "#df1.head(30)"
   ]
  },
  {
   "cell_type": "code",
   "execution_count": 10,
   "metadata": {
    "collapsed": false
   },
   "outputs": [],
   "source": [
    "df1['BAFTA_Awards_nominated'] = df1['Awards'].apply(lambda x : (re.findall(r\"Nominated for (\\d+) BAFTA\", x)))\n",
    "df1['BAFTA_Awards_nominated'] = df1['BAFTA_Awards_nominated'].apply(lambda x : [0] if len(x)==0 else x)\n",
    "df1['BAFTA_Awards_nominated'] = df1['BAFTA_Awards_nominated'].apply(lambda x : list(map(int,x))[0])\n",
    "df1['Awards_nominated'] = df1['Awards_nominated'] + df1['BAFTA_Awards_nominated']\n",
    "#df1.head(20)"
   ]
  },
  {
   "cell_type": "code",
   "execution_count": 11,
   "metadata": {
    "collapsed": true
   },
   "outputs": [],
   "source": [
    "df1['Prime_Awards_won'] = df1['Awards'].apply(lambda x : (re.findall(r\"Won (\\d+) Prime\", x)))\n",
    "df1['Prime_Awards_won'] = df1['Prime_Awards_won'].apply(lambda x : [0] if len(x)==0 else x)\n",
    "df1['Prime_Awards_won'] = df1['Prime_Awards_won'].apply(lambda x : list(map(int,x))[0])\n",
    "df1['Awards_won'] = df1['Awards_won'] + df1['Prime_Awards_won']\n",
    "#df1.head(20)"
   ]
  },
  {
   "cell_type": "code",
   "execution_count": 12,
   "metadata": {
    "collapsed": true
   },
   "outputs": [],
   "source": [
    "df1['Oscar_Awards_won'] = df1['Awards'].apply(lambda x : (re.findall(r\"Won (\\d+) Oscar\", x)))\n",
    "df1['Oscar_Awards_won'] = df1['Oscar_Awards_won'].apply(lambda x : [0] if len(x)==0 else x)\n",
    "df1['Oscar_Awards_won'] = df1['Oscar_Awards_won'].apply(lambda x : list(map(int,x))[0])\n",
    "df1['Awards_won'] = df1['Awards_won'] + df1['Oscar_Awards_won']\n",
    "#df1.head(20)"
   ]
  },
  {
   "cell_type": "code",
   "execution_count": 13,
   "metadata": {
    "collapsed": true
   },
   "outputs": [],
   "source": [
    "df1['Golden_Globe_Awards_won'] = df1['Awards'].apply(lambda x : (re.findall(r\"Won (\\d+) Golden\", x)))\n",
    "df1['Golden_Globe_Awards_won'] = df1['Golden_Globe_Awards_won'].apply(lambda x : [0] if len(x)==0 else x)\n",
    "df1['Golden_Globe_Awards_won'] = df1['Golden_Globe_Awards_won'].apply(lambda x : list(map(int,x))[0])\n",
    "df1['Awards_won'] = df1['Awards_won'] + df1['Golden_Globe_Awards_won']\n",
    "#df1.head(20)"
   ]
  },
  {
   "cell_type": "code",
   "execution_count": 14,
   "metadata": {
    "collapsed": false
   },
   "outputs": [],
   "source": [
    "df1['BAFTA_Awards_won'] = df1['Awards'].apply(lambda x : (re.findall(r\"Won (\\d+) BAFTA\", x)))\n",
    "df1['BAFTA_Awards_won'] = df1['BAFTA_Awards_won'].apply(lambda x : [0] if len(x)==0 else x)\n",
    "df1['BAFTA_Awards_won'] = df1['BAFTA_Awards_won'].apply(lambda x : list(map(int,x))[0])\n",
    "df1['Awards_won'] = df1['Awards_won'] + df1['BAFTA_Awards_won']\n",
    "#df1.head(50)"
   ]
  },
  {
   "cell_type": "code",
   "execution_count": 15,
   "metadata": {
    "collapsed": false
   },
   "outputs": [
    {
     "name": "stdout",
     "output_type": "stream",
     "text": [
      "                    Awards  Awards_won  Awards_nominated  \\\n",
      "3   1 win & 2 nominations.           1                 2   \n",
      "4                   1 win.           1                 0   \n",
      "5            1 nomination.           0                 1   \n",
      "6  3 wins & 2 nominations.           3                 2   \n",
      "7    1 win & 1 nomination.           1                 1   \n",
      "\n",
      "   Prime_Awards_nominated  Oscar_Awards_nominated  \\\n",
      "3                       0                       0   \n",
      "4                       0                       0   \n",
      "5                       0                       0   \n",
      "6                       0                       0   \n",
      "7                       0                       0   \n",
      "\n",
      "   Golden_Globe_Awards_nominated  BAFTA_Awards_nominated  Prime_Awards_won  \\\n",
      "3                              0                       0                 0   \n",
      "4                              0                       0                 0   \n",
      "5                              0                       0                 0   \n",
      "6                              0                       0                 0   \n",
      "7                              0                       0                 0   \n",
      "\n",
      "   Oscar_Awards_won  Golden_Globe_Awards_won  BAFTA_Awards_won  \n",
      "3                 0                        0                 0  \n",
      "4                 0                        0                 0  \n",
      "5                 0                        0                 0  \n",
      "6                 0                        0                 0  \n",
      "7                 0                        0                 0  \n"
     ]
    }
   ],
   "source": [
    "output = df1.head()\n",
    "print(output)"
   ]
  },
  {
   "cell_type": "code",
   "execution_count": 16,
   "metadata": {
    "collapsed": true
   },
   "outputs": [],
   "source": [
    "df1.to_csv(os.getcwd()+ '\\\\Q4_Part_1_Output.csv', index = False)"
   ]
  }
 ],
 "metadata": {
  "kernelspec": {
   "display_name": "Python [conda root]",
   "language": "python",
   "name": "conda-root-py"
  },
  "language_info": {
   "codemirror_mode": {
    "name": "ipython",
    "version": 3
   },
   "file_extension": ".py",
   "mimetype": "text/x-python",
   "name": "python",
   "nbconvert_exporter": "python",
   "pygments_lexer": "ipython3",
   "version": "3.5.2"
  }
 },
 "nbformat": 4,
 "nbformat_minor": 2
}
