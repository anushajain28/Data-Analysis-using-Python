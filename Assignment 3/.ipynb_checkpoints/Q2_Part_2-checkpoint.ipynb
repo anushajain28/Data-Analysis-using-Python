{
 "cells": [
  {
   "cell_type": "code",
   "execution_count": 1,
   "metadata": {
    "collapsed": true
   },
   "outputs": [],
   "source": [
    "import pandas as pd\n",
    "import os\n",
    "import numpy as np\n",
    "import calendar"
   ]
  },
  {
   "cell_type": "code",
   "execution_count": 2,
   "metadata": {
    "collapsed": true
   },
   "outputs": [],
   "source": [
    "current_path =os.path.expanduser('~')\n",
    "current_path =os.path.join(current_path,'Assignment 3')\n",
    "current_path =os.path.join(current_path,'Data')"
   ]
  },
  {
   "cell_type": "code",
   "execution_count": 3,
   "metadata": {
    "collapsed": false
   },
   "outputs": [],
   "source": [
    "df = pd.read_csv( current_path + '\\\\employee_compensation.csv')   #read csv file"
   ]
  },
  {
   "cell_type": "code",
   "execution_count": 4,
   "metadata": {
    "collapsed": false,
    "scrolled": true
   },
   "outputs": [],
   "source": [
    "df1 = df[df['Year Type'] == 'Calendar'] #filter data for calender year only"
   ]
  },
  {
   "cell_type": "code",
   "execution_count": 5,
   "metadata": {
    "collapsed": false
   },
   "outputs": [],
   "source": [
    "df2 = df1[['Job Family' , 'Employee Identifier']] # create a dataframe with columns Job Family & Employee Identifier"
   ]
  },
  {
   "cell_type": "code",
   "execution_count": 6,
   "metadata": {
    "collapsed": false
   },
   "outputs": [],
   "source": [
    "df3 = df1.groupby(['Employee Identifier']).mean() # Calculate mean values of salaries etc for each employee"
   ]
  },
  {
   "cell_type": "code",
   "execution_count": 7,
   "metadata": {
    "collapsed": false
   },
   "outputs": [],
   "source": [
    "df3 = df3[df3['Overtime'] > (.05 * df3['Salaries'])].reset_index() #consider employees with overtime salaries greater than 5% of salaries"
   ]
  },
  {
   "cell_type": "code",
   "execution_count": 8,
   "metadata": {
    "collapsed": false
   },
   "outputs": [],
   "source": [
    "df4 = pd.merge(df3, df2, on ='Employee Identifier') #merge two dataframes on column Employee Identifier"
   ]
  },
  {
   "cell_type": "code",
   "execution_count": 9,
   "metadata": {
    "collapsed": false
   },
   "outputs": [],
   "source": [
    "df5 = df4.groupby(['Job Family']).mean() #calculate mean of total benefits and compensation for each job family"
   ]
  },
  {
   "cell_type": "code",
   "execution_count": 10,
   "metadata": {
    "collapsed": false
   },
   "outputs": [
    {
     "data": {
      "text/html": [
       "<div>\n",
       "<table border=\"1\" class=\"dataframe\">\n",
       "  <thead>\n",
       "    <tr style=\"text-align: right;\">\n",
       "      <th></th>\n",
       "      <th>Total Benefits</th>\n",
       "      <th>Total Compensation</th>\n",
       "      <th>Percent_Total_Benefit</th>\n",
       "    </tr>\n",
       "    <tr>\n",
       "      <th>Job Family</th>\n",
       "      <th></th>\n",
       "      <th></th>\n",
       "      <th></th>\n",
       "    </tr>\n",
       "  </thead>\n",
       "  <tbody>\n",
       "    <tr>\n",
       "      <th>Administrative-DPW/PUC</th>\n",
       "      <td>37692.466000</td>\n",
       "      <td>145259.268000</td>\n",
       "      <td>25.948407</td>\n",
       "    </tr>\n",
       "    <tr>\n",
       "      <th>Administrative-Labor &amp; Trades</th>\n",
       "      <td>40640.805965</td>\n",
       "      <td>177943.742913</td>\n",
       "      <td>22.839132</td>\n",
       "    </tr>\n",
       "    <tr>\n",
       "      <th>Agriculture &amp; Horticulture</th>\n",
       "      <td>28446.507894</td>\n",
       "      <td>95921.149834</td>\n",
       "      <td>29.656137</td>\n",
       "    </tr>\n",
       "    <tr>\n",
       "      <th>Airport Operation</th>\n",
       "      <td>33571.694983</td>\n",
       "      <td>121463.904512</td>\n",
       "      <td>27.639236</td>\n",
       "    </tr>\n",
       "    <tr>\n",
       "      <th>Appraisal &amp; Taxation</th>\n",
       "      <td>17273.536667</td>\n",
       "      <td>58263.883333</td>\n",
       "      <td>29.647074</td>\n",
       "    </tr>\n",
       "  </tbody>\n",
       "</table>\n",
       "</div>"
      ],
      "text/plain": [
       "                               Total Benefits  Total Compensation  \\\n",
       "Job Family                                                          \n",
       "Administrative-DPW/PUC           37692.466000       145259.268000   \n",
       "Administrative-Labor & Trades    40640.805965       177943.742913   \n",
       "Agriculture & Horticulture       28446.507894        95921.149834   \n",
       "Airport Operation                33571.694983       121463.904512   \n",
       "Appraisal & Taxation             17273.536667        58263.883333   \n",
       "\n",
       "                               Percent_Total_Benefit  \n",
       "Job Family                                            \n",
       "Administrative-DPW/PUC                     25.948407  \n",
       "Administrative-Labor & Trades              22.839132  \n",
       "Agriculture & Horticulture                 29.656137  \n",
       "Airport Operation                          27.639236  \n",
       "Appraisal & Taxation                       29.647074  "
      ]
     },
     "execution_count": 10,
     "metadata": {},
     "output_type": "execute_result"
    }
   ],
   "source": [
    "df5['Percent_Total_Benefit'] = (df5['Total Benefits'] / df5['Total Compensation'] * 100) # calculate percent of total benefits\n",
    "output = df5[['Total Benefits', 'Total Compensation' , 'Percent_Total_Benefit']]\n",
    "result = output.head() \n",
    "print(result)"
   ]
  },
  {
   "cell_type": "code",
   "execution_count": 11,
   "metadata": {
    "collapsed": false
   },
   "outputs": [],
   "source": [
    "output.to_csv(os.getcwd()+ '\\\\Q2_Part_2_Output.csv')"
   ]
  }
 ],
 "metadata": {
  "anaconda-cloud": {},
  "kernelspec": {
   "display_name": "Python [conda root]",
   "language": "python",
   "name": "conda-root-py"
  },
  "language_info": {
   "codemirror_mode": {
    "name": "ipython",
    "version": 3
   },
   "file_extension": ".py",
   "mimetype": "text/x-python",
   "name": "python",
   "nbconvert_exporter": "python",
   "pygments_lexer": "ipython3",
   "version": "3.5.2"
  }
 },
 "nbformat": 4,
 "nbformat_minor": 2
}
