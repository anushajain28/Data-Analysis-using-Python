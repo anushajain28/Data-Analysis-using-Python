{
 "cells": [
  {
   "cell_type": "code",
   "execution_count": 19,
   "metadata": {
    "collapsed": true
   },
   "outputs": [],
   "source": [
    "import pandas as pd\n",
    "import os\n",
    "import calendar"
   ]
  },
  {
   "cell_type": "code",
   "execution_count": 20,
   "metadata": {
    "collapsed": false
   },
   "outputs": [],
   "source": [
    "current_path =os.path.expanduser('~')\n",
    "current_path =os.path.join(current_path,'Assignment 3')\n",
    "current_path =os.path.join(current_path,'Data')"
   ]
  },
  {
   "cell_type": "code",
   "execution_count": 21,
   "metadata": {
    "collapsed": false
   },
   "outputs": [],
   "source": [
    "df = pd.read_csv( current_path + '\\\\vehicle_collisions.csv')   #read csv file"
   ]
  },
  {
   "cell_type": "code",
   "execution_count": 22,
   "metadata": {
    "collapsed": false
   },
   "outputs": [],
   "source": [
    "df['DATE'] = pd.to_datetime(df['DATE']) #convert date to datetime format"
   ]
  },
  {
   "cell_type": "code",
   "execution_count": 23,
   "metadata": {
    "collapsed": false
   },
   "outputs": [],
   "source": [
    "df['YEAR'] , df['MONTH'] = df['DATE'].dt.year , df['DATE'].dt.month # extract year and month from the date and create new columns"
   ]
  },
  {
   "cell_type": "code",
   "execution_count": 24,
   "metadata": {
    "collapsed": false
   },
   "outputs": [],
   "source": [
    "df1 = df[df['YEAR'] == 2016]  #create a new dataframe of records with year value 2016"
   ]
  },
  {
   "cell_type": "code",
   "execution_count": 25,
   "metadata": {
    "collapsed": false,
    "scrolled": true
   },
   "outputs": [],
   "source": [
    "total_accidents = df1.groupby('MONTH').count().reset_index() #count the total number of accidents for each month "
   ]
  },
  {
   "cell_type": "code",
   "execution_count": 26,
   "metadata": {
    "collapsed": false
   },
   "outputs": [],
   "source": [
    "total_nyc = total_accidents[['MONTH','UNIQUE KEY']]  # create another dataframe with selected columns"
   ]
  },
  {
   "cell_type": "code",
   "execution_count": 27,
   "metadata": {
    "collapsed": false
   },
   "outputs": [],
   "source": [
    "df2 = df1[df1['BOROUGH'] == 'MANHATTAN'] # create dataframe for records of incidents that happened in Manhattan\n",
    "accidents_in_mhtn = df2.groupby('MONTH').count().reset_index() #count the total number of accidents in Manhattan in each month"
   ]
  },
  {
   "cell_type": "code",
   "execution_count": 28,
   "metadata": {
    "collapsed": false
   },
   "outputs": [],
   "source": [
    "total_mhtn = accidents_in_mhtn[['MONTH','UNIQUE KEY']] "
   ]
  },
  {
   "cell_type": "code",
   "execution_count": 29,
   "metadata": {
    "collapsed": false
   },
   "outputs": [],
   "source": [
    "df3 = pd.merge(total_mhtn, total_nyc, on ='MONTH' ) #merge two dataframes on column MONTH"
   ]
  },
  {
   "cell_type": "code",
   "execution_count": 30,
   "metadata": {
    "collapsed": false
   },
   "outputs": [],
   "source": [
    "df3['MONTH'] = df3['MONTH'].apply(lambda x: calendar.month_abbr[x])  #change the integer value of month to name"
   ]
  },
  {
   "cell_type": "code",
   "execution_count": 31,
   "metadata": {
    "collapsed": false,
    "scrolled": true
   },
   "outputs": [
    {
     "data": {
      "text/html": [
       "<div>\n",
       "<table border=\"1\" class=\"dataframe\">\n",
       "  <thead>\n",
       "    <tr style=\"text-align: right;\">\n",
       "      <th></th>\n",
       "      <th>MONTH</th>\n",
       "      <th>MANHATTAN</th>\n",
       "      <th>NYC</th>\n",
       "      <th>PERCENTAGE</th>\n",
       "    </tr>\n",
       "  </thead>\n",
       "  <tbody>\n",
       "    <tr>\n",
       "      <th>0</th>\n",
       "      <td>Jan</td>\n",
       "      <td>3178</td>\n",
       "      <td>18101</td>\n",
       "      <td>0.175570</td>\n",
       "    </tr>\n",
       "    <tr>\n",
       "      <th>1</th>\n",
       "      <td>Feb</td>\n",
       "      <td>3195</td>\n",
       "      <td>15985</td>\n",
       "      <td>0.199875</td>\n",
       "    </tr>\n",
       "    <tr>\n",
       "      <th>2</th>\n",
       "      <td>Mar</td>\n",
       "      <td>3479</td>\n",
       "      <td>18471</td>\n",
       "      <td>0.188349</td>\n",
       "    </tr>\n",
       "    <tr>\n",
       "      <th>3</th>\n",
       "      <td>Apr</td>\n",
       "      <td>3540</td>\n",
       "      <td>18331</td>\n",
       "      <td>0.193115</td>\n",
       "    </tr>\n",
       "    <tr>\n",
       "      <th>4</th>\n",
       "      <td>May</td>\n",
       "      <td>3432</td>\n",
       "      <td>20052</td>\n",
       "      <td>0.171155</td>\n",
       "    </tr>\n",
       "  </tbody>\n",
       "</table>\n",
       "</div>"
      ],
      "text/plain": [
       "  MONTH  MANHATTAN    NYC  PERCENTAGE\n",
       "0   Jan       3178  18101    0.175570\n",
       "1   Feb       3195  15985    0.199875\n",
       "2   Mar       3479  18471    0.188349\n",
       "3   Apr       3540  18331    0.193115\n",
       "4   May       3432  20052    0.171155"
      ]
     },
     "execution_count": 31,
     "metadata": {},
     "output_type": "execute_result"
    }
   ],
   "source": [
    "df3=df3.rename(columns = {'UNIQUE KEY_x':'MANHATTAN' , 'UNIQUE KEY_y': 'NYC'}) #rename the column names\n",
    "df3['PERCENTAGE'] = df3['MANHATTAN'] / df3['NYC'] #calculate percentage using values of columns in dataframe\n",
    "output = df3.head()\n",
    "print(output)"
   ]
  },
  {
   "cell_type": "code",
   "execution_count": 14,
   "metadata": {
    "collapsed": true
   },
   "outputs": [],
   "source": [
    "df3.to_csv(os.getcwd()+ '\\\\Q1_Part_1_Output.csv', index = False)"
   ]
  }
 ],
 "metadata": {
  "anaconda-cloud": {},
  "kernelspec": {
   "display_name": "Python [conda root]",
   "language": "python",
   "name": "conda-root-py"
  },
  "language_info": {
   "codemirror_mode": {
    "name": "ipython",
    "version": 3
   },
   "file_extension": ".py",
   "mimetype": "text/x-python",
   "name": "python",
   "nbconvert_exporter": "python",
   "pygments_lexer": "ipython3",
   "version": "3.5.2"
  }
 },
 "nbformat": 4,
 "nbformat_minor": 2
}
