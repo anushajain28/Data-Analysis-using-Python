{
 "cells": [
  {
   "cell_type": "code",
   "execution_count": 1,
   "metadata": {
    "collapsed": true
   },
   "outputs": [],
   "source": [
    "import pandas as pd\n",
    "import os\n",
    "import calendar"
   ]
  },
  {
   "cell_type": "code",
   "execution_count": 2,
   "metadata": {
    "collapsed": true
   },
   "outputs": [],
   "source": [
    "current_path =os.path.expanduser('~')\n",
    "current_path =os.path.join(current_path,'Assignment 3')\n",
    "current_path =os.path.join(current_path,'Data')"
   ]
  },
  {
   "cell_type": "code",
   "execution_count": 3,
   "metadata": {
    "collapsed": true
   },
   "outputs": [],
   "source": [
    "df = pd.read_csv( current_path + '\\\\vehicle_collisions.csv')   #read csv file"
   ]
  },
  {
   "cell_type": "code",
   "execution_count": 4,
   "metadata": {
    "collapsed": false
   },
   "outputs": [],
   "source": [
    "acc_each_borough = df.groupby('BOROUGH').count().reset_index() #count the total number of accidents for each borough"
   ]
  },
  {
   "cell_type": "code",
   "execution_count": 5,
   "metadata": {
    "collapsed": false
   },
   "outputs": [],
   "source": [
    "acc_each_borough['MORE_VEHICLES_INVOLVED'] = acc_each_borough['VEHICLE 4 TYPE']  #Number of accidents which involved 4 or more vehicles"
   ]
  },
  {
   "cell_type": "code",
   "execution_count": 6,
   "metadata": {
    "collapsed": false
   },
   "outputs": [],
   "source": [
    "acc_each_borough['THREE_VEHICLES_INVOLVED'] = acc_each_borough['VEHICLE 3 TYPE'] - acc_each_borough['MORE_VEHICLES_INVOLVED'] #Calculating Number of accidents which involved 3 vehicles"
   ]
  },
  {
   "cell_type": "code",
   "execution_count": 7,
   "metadata": {
    "collapsed": false
   },
   "outputs": [],
   "source": [
    "acc_each_borough['TW0_VEHICLES_INVOLVED'] = acc_each_borough['VEHICLE 2 TYPE'] - acc_each_borough['VEHICLE 3 TYPE']  #Calculating Number of accidents which involved 2 vehicles"
   ]
  },
  {
   "cell_type": "code",
   "execution_count": 8,
   "metadata": {
    "collapsed": false
   },
   "outputs": [],
   "source": [
    "acc_each_borough['ONE_VEHICLE_INVOLVED'] = acc_each_borough['VEHICLE 1 TYPE'] - acc_each_borough['VEHICLE 2 TYPE']  #Calculating Number of accidents which involved only 1 vehicle"
   ]
  },
  {
   "cell_type": "code",
   "execution_count": 9,
   "metadata": {
    "collapsed": false
   },
   "outputs": [
    {
     "data": {
      "text/html": [
       "<div>\n",
       "<table border=\"1\" class=\"dataframe\">\n",
       "  <thead>\n",
       "    <tr style=\"text-align: right;\">\n",
       "      <th></th>\n",
       "      <th>BOROUGH</th>\n",
       "      <th>ONE_VEHICLE_INVOLVED</th>\n",
       "      <th>TW0_VEHICLES_INVOLVED</th>\n",
       "      <th>THREE_VEHICLES_INVOLVED</th>\n",
       "      <th>MORE_VEHICLES_INVOLVED</th>\n",
       "    </tr>\n",
       "  </thead>\n",
       "  <tbody>\n",
       "    <tr>\n",
       "      <th>0</th>\n",
       "      <td>BRONX</td>\n",
       "      <td>8627</td>\n",
       "      <td>34385</td>\n",
       "      <td>1962</td>\n",
       "      <td>625</td>\n",
       "    </tr>\n",
       "    <tr>\n",
       "      <th>1</th>\n",
       "      <td>BROOKLYN</td>\n",
       "      <td>17375</td>\n",
       "      <td>80207</td>\n",
       "      <td>4980</td>\n",
       "      <td>1612</td>\n",
       "    </tr>\n",
       "    <tr>\n",
       "      <th>2</th>\n",
       "      <td>MANHATTAN</td>\n",
       "      <td>13318</td>\n",
       "      <td>66958</td>\n",
       "      <td>2024</td>\n",
       "      <td>501</td>\n",
       "    </tr>\n",
       "    <tr>\n",
       "      <th>3</th>\n",
       "      <td>QUEENS</td>\n",
       "      <td>12962</td>\n",
       "      <td>70260</td>\n",
       "      <td>4498</td>\n",
       "      <td>1420</td>\n",
       "    </tr>\n",
       "    <tr>\n",
       "      <th>4</th>\n",
       "      <td>STATEN ISLAND</td>\n",
       "      <td>2343</td>\n",
       "      <td>10676</td>\n",
       "      <td>759</td>\n",
       "      <td>165</td>\n",
       "    </tr>\n",
       "  </tbody>\n",
       "</table>\n",
       "</div>"
      ],
      "text/plain": [
       "         BOROUGH  ONE_VEHICLE_INVOLVED  TW0_VEHICLES_INVOLVED  \\\n",
       "0          BRONX                  8627                  34385   \n",
       "1       BROOKLYN                 17375                  80207   \n",
       "2      MANHATTAN                 13318                  66958   \n",
       "3         QUEENS                 12962                  70260   \n",
       "4  STATEN ISLAND                  2343                  10676   \n",
       "\n",
       "   THREE_VEHICLES_INVOLVED  MORE_VEHICLES_INVOLVED  \n",
       "0                     1962                     625  \n",
       "1                     4980                    1612  \n",
       "2                     2024                     501  \n",
       "3                     4498                    1420  \n",
       "4                      759                     165  "
      ]
     },
     "execution_count": 9,
     "metadata": {},
     "output_type": "execute_result"
    }
   ],
   "source": [
    "acc_each_borough = acc_each_borough[['BOROUGH','ONE_VEHICLE_INVOLVED','TW0_VEHICLES_INVOLVED','THREE_VEHICLES_INVOLVED','MORE_VEHICLES_INVOLVED']]\n",
    "print(acc_each_borough)"
   ]
  },
  {
   "cell_type": "code",
   "execution_count": 11,
   "metadata": {
    "collapsed": true
   },
   "outputs": [],
   "source": [
    "acc_each_borough.to_csv(os.getcwd()+ '\\\\Q1_Part_2_Output.csv', index = False)"
   ]
  }
 ],
 "metadata": {
  "anaconda-cloud": {},
  "kernelspec": {
   "display_name": "Python [conda root]",
   "language": "python",
   "name": "conda-root-py"
  },
  "language_info": {
   "codemirror_mode": {
    "name": "ipython",
    "version": 3
   },
   "file_extension": ".py",
   "mimetype": "text/x-python",
   "name": "python",
   "nbconvert_exporter": "python",
   "pygments_lexer": "ipython3",
   "version": "3.5.2"
  }
 },
 "nbformat": 4,
 "nbformat_minor": 2
}
